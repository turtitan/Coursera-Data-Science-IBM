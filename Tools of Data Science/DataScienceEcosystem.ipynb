{
 "cells": [
  {
   "cell_type": "markdown",
   "id": "618101cc",
   "metadata": {},
   "source": [
    "# Data Science Tools and Ecosystem"
   ]
  },
  {
   "cell_type": "markdown",
   "id": "4e597d48",
   "metadata": {},
   "source": [
    "## Exercise 3 - Introduction\n",
    "In this notebook, Data Science Tools and Ecosystem are summarized."
   ]
  },
  {
   "cell_type": "markdown",
   "id": "7d8a057b",
   "metadata": {},
   "source": [
    "## Exercise 4 - Data Science Languages\n",
    "\n",
    "### Overview\n",
    "Some of the popular languages that Data Scientists use are:\n",
    "\n",
    "1. **Python**\n",
    "2. **R**\n",
    "3. **SQL**"
   ]
  },
  {
   "cell_type": "markdown",
   "id": "d07c03f0",
   "metadata": {},
   "source": [
    "## Exercise 5 - Data Science Libraries\n",
    "\n",
    "### Overview\n",
    "Some of the commonly used libraries used by Data Scientists include:\n",
    "\n",
    "1. **NumPy**\n",
    "2. **Pandas**\n",
    "3. **Scikit-learn**"
   ]
  },
  {
   "cell_type": "markdown",
   "id": "8f2736f3",
   "metadata": {},
   "source": [
    "## Exercise 6 - Data Science Tools\n",
    "\n",
    "| Data Science Tools     |\n",
    "|------------------------|\n",
    "| **Jupyter Notebooks**  |\n",
    "| **RStudio**            |\n",
    "| **VS Code with Python Extension** |"
   ]
  },
  {
   "cell_type": "markdown",
   "id": "a90c5112",
   "metadata": {},
   "source": [
    "## Exercise 7 - Arithmetic Expression\n",
    "### Arithmetic Expression Examples in Python\n",
    "\n",
    "Below are a few examples of evaluating arithmetic expressions in Python. You can use these examples to understand how mathematical operations work in Python.\n",
    "\n",
    "1. **Addition:**\n",
    "   ```python\n",
    "   result = 5 + 3\n",
    "   print(result)  # Output: 8"
   ]
  },
  {
   "cell_type": "code",
   "execution_count": 8,
   "id": "7ee104d3",
   "metadata": {},
   "outputs": [
    {
     "name": "stdout",
     "output_type": "stream",
     "text": [
      "17\n"
     ]
    }
   ],
   "source": [
    "result = (3 * 4) + 5\n",
    "print(result)"
   ]
  },
  {
   "cell_type": "code",
   "execution_count": 9,
   "id": "c70be97a",
   "metadata": {},
   "outputs": [
    {
     "name": "stdout",
     "output_type": "stream",
     "text": [
      "3.3333333333333335\n"
     ]
    }
   ],
   "source": [
    "minutes = 200\n",
    "hours = minutes / 60\n",
    "print(hours)"
   ]
  },
  {
   "cell_type": "markdown",
   "id": "3d063b14",
   "metadata": {},
   "source": [
    "Objectives:\n",
    "\n",
    "- Understand and list some of the popular languages used in Data Science.\n",
    "- Explore common libraries utilized by Data Scientists.\n",
    "- Learn how to work with arithmetic expressions in Python.\n",
    "- Practice converting units, such as minutes to hours, using Python expressions.\n",
    "- Gain familiarity with Markdown syntax for creating structured documents."
   ]
  },
  {
   "cell_type": "markdown",
   "id": "f70432f7",
   "metadata": {},
   "source": [
    "## Author\n",
    "Tan Jia Huei"
   ]
  },
  {
   "cell_type": "code",
   "execution_count": null,
   "id": "78bb7112",
   "metadata": {},
   "outputs": [],
   "source": []
  }
 ],
 "metadata": {
  "kernelspec": {
   "display_name": "Python 3 (ipykernel)",
   "language": "python",
   "name": "python3"
  },
  "language_info": {
   "codemirror_mode": {
    "name": "ipython",
    "version": 3
   },
   "file_extension": ".py",
   "mimetype": "text/x-python",
   "name": "python",
   "nbconvert_exporter": "python",
   "pygments_lexer": "ipython3",
   "version": "3.9.12"
  }
 },
 "nbformat": 4,
 "nbformat_minor": 5
}
